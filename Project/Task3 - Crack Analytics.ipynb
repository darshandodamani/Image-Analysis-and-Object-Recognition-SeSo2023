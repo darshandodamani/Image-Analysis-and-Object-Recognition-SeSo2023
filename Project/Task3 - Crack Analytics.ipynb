{
 "cells": [
  {
   "cell_type": "markdown",
   "metadata": {},
   "source": [
    "# Task3 - Crack Analytics"
   ]
  },
  {
   "cell_type": "markdown",
   "metadata": {},
   "source": [
    "#### Crack segmentation unfolds its power only when the results undergo further processing. Information such as the length or the number of branches of a crack are crucial for the assessment of a structure’s condition."
   ]
  },
  {
   "cell_type": "markdown",
   "metadata": {},
   "source": [
    "#### a) Implement a metric to assess the performance of the implemented approach. The standard metric for semantic segmentation is intersection-over-union (IoU). Report the performance of the detector on the test set and discuss the adequacy of the metric for crack detection."
   ]
  },
  {
   "cell_type": "code",
   "execution_count": 6,
   "metadata": {},
   "outputs": [],
   "source": [
    "import cv2\n",
    "import numpy as np\n",
    "import os\n",
    "from skimage.morphology import skeletonize\n",
    "from skimage.measure import regionprops\n",
    "from sklearn.model_selection import train_test_split"
   ]
  },
  {
   "cell_type": "code",
   "execution_count": 27,
   "metadata": {},
   "outputs": [],
   "source": [
    "# Directory containing the input images\n",
    "input_dir = \"dataset/crack\"\n",
    "\n",
    "# Directory to save the processed images\n",
    "output_dir = \"dataset/processed\""
   ]
  },
  {
   "cell_type": "code",
   "execution_count": 28,
   "metadata": {},
   "outputs": [],
   "source": [
    "# Create the output directory if it doesn't exist\n",
    "if not os.path.exists(output_dir):\n",
    "    os.makedirs(output_dir)\n",
    "\n",
    "# List all image files in the input directory\n",
    "image_files = [f for f in os.listdir(input_dir) if f.endswith((\".png\"))]\n",
    "\n",
    "# Define a kernel for morphological operations\n",
    "kernel = np.ones((3, 3), np.uint8) "
   ]
  },
  {
   "cell_type": "code",
   "execution_count": 29,
   "metadata": {},
   "outputs": [],
   "source": [
    "# Initialize lists to store feature vectors and labels\n",
    "feature_vectors = []\n",
    "labels = []"
   ]
  },
  {
   "cell_type": "code",
   "execution_count": 30,
   "metadata": {},
   "outputs": [],
   "source": [
    "# Define a function to perform connected component analysis\n",
    "def connected_component_analysis(image):\n",
    "    # Initialize equivalent label table and label counter\n",
    "    equivalent_labels = {}\n",
    "    label_counter = 0\n",
    "\n",
    "    # Create a function to find the root label of an equivalence group\n",
    "    def find_root_label(label):\n",
    "        if label in equivalent_labels:\n",
    "            return find_root_label(equivalent_labels[label])\n",
    "        else:\n",
    "            return label\n",
    "\n",
    "    # Process the image row by row and label connected components\n",
    "    for y in range(image.shape[0]):\n",
    "        for x in range(image.shape[1]):\n",
    "            # Check if the current pixel is foreground (crack)\n",
    "            if image[y, x] == 255:\n",
    "                # Get the labels of the neighboring pixels\n",
    "                neighbors = []\n",
    "\n",
    "                if x > 0 and image[y, x - 1] == 255:\n",
    "                    neighbors.append(image[y, x - 1])\n",
    "\n",
    "                if y > 0 and image[y - 1, x] == 255:\n",
    "                    neighbors.append(image[y - 1, x])\n",
    "\n",
    "                # If there are no neighboring foreground pixels, assign a new label\n",
    "                if not neighbors:\n",
    "                    label_counter += 1\n",
    "                    image[y, x] = label_counter\n",
    "                else:\n",
    "                    # Assign the smallest label among neighbors\n",
    "                    min_neighbor_label = min(neighbors)\n",
    "                    image[y, x] = min_neighbor_label\n",
    "\n",
    "                    # Update the equivalent label table\n",
    "                    for neighbor in neighbors:\n",
    "                        if neighbor != min_neighbor_label:\n",
    "                            root_label = find_root_label(neighbor)\n",
    "                            equivalent_labels[root_label] = min_neighbor_label\n",
    "\n",
    "    # Perform a second pass to update labels with equivalent labels\n",
    "    for y in range(image.shape[0]):\n",
    "        for x in range(image.shape[1]):\n",
    "            label = image[y, x]\n",
    "            if label in equivalent_labels:\n",
    "                image[y, x] = find_root_label(label)\n",
    "    \n",
    "    return image"
   ]
  },
  {
   "cell_type": "code",
   "execution_count": 31,
   "metadata": {},
   "outputs": [],
   "source": [
    "for image_file in image_files:\n",
    "    # Load the image\n",
    "    img = cv2.imread(os.path.join(input_dir, image_file))\n",
    "\n",
    "    # Calculate minimum and maximum pixel values\n",
    "    min_val = np.min(img)\n",
    "    max_val = np.max(img)\n",
    "\n",
    "    # Vectorized operations for contrast stretching\n",
    "    contrast_stretching = 255 * ((img - min_val) / (max_val - min_val))\n",
    "\n",
    "    # Round the pixel values to the nearest integer\n",
    "    contrast_stretching = np.round(contrast_stretching)\n",
    "\n",
    "    # Ensure pixel values are in the range [0, 255]\n",
    "    contrast_stretching = np.clip(contrast_stretching, 0, 255)\n",
    "    contrast_stretching = contrast_stretching.astype('uint8')\n",
    "\n",
    "    # Convert the image to grayscale\n",
    "    gray_image = cv2.cvtColor(contrast_stretching, cv2.COLOR_BGR2GRAY)\n",
    "\n",
    "    # Apply adaptive thresholding to obtain a binary image\n",
    "    binary_image = cv2.adaptiveThreshold(\n",
    "        gray_image, 255, cv2.ADAPTIVE_THRESH_GAUSSIAN_C, cv2.THRESH_BINARY_INV, 11, 2\n",
    "    )\n",
    "\n",
    "    # Apply morphological operations\n",
    "    # 1. Dilation to connect nearby cracks and make them thicker\n",
    "    dilated_image = cv2.dilate(binary_image, kernel, iterations=1)\n",
    "\n",
    "    # 2. Erosion to remove noise and thin out the cracks slightly\n",
    "    eroded_image = cv2.erode(dilated_image, kernel, iterations=1)\n",
    "\n",
    "    # Perform connected component analysis to label regions\n",
    "    labeled_image = connected_component_analysis(eroded_image)\n",
    "\n",
    "    # 3. Closing to further connect cracks\n",
    "    closing_image = cv2.morphologyEx(eroded_image, cv2.MORPH_CLOSE, kernel)\n",
    "\n",
    "    # 4. Morphological thinning using scikit-image\n",
    "    thinned_image = skeletonize(closing_image)\n",
    "\n",
    "    # Extract feature vectors and labels\n",
    "    ground_truth = cv2.imread(os.path.join(input_dir, image_file), cv2.IMREAD_GRAYSCALE)\n",
    "    for region in regionprops(labeled_image):\n",
    "        area = region.area\n",
    "        perimeter = region.perimeter\n",
    "        if perimeter != 0:\n",
    "            circularity = 4 * np.pi * (area / (perimeter**2))\n",
    "        else:\n",
    "            circularity = 0.0\n",
    "        is_crack = ground_truth[int(region.centroid[1]), int(region.centroid[0])] == 255\n",
    "        feature_vector = [area, perimeter, circularity]\n",
    "        feature_vectors.append(feature_vector)\n",
    "        labels.append(is_crack)"
   ]
  },
  {
   "cell_type": "code",
   "execution_count": 32,
   "metadata": {},
   "outputs": [],
   "source": [
    "# Split the data into training and testing sets (e.g., 80% training, 20% testing) as given in Project\n",
    "X_train, X_test, y_train, y_test = train_test_split(feature_vectors, labels, test_size=0.2, random_state=42)"
   ]
  },
  {
   "cell_type": "code",
   "execution_count": 33,
   "metadata": {},
   "outputs": [
    {
     "name": "stdout",
     "output_type": "stream",
     "text": [
      "Accuracy of the rule-based classifier: 95.61%\n"
     ]
    }
   ],
   "source": [
    "# classifier\n",
    "def rule_based_classifier(feature_vector):\n",
    "    area, perimeter, circularity = feature_vector\n",
    "    if circularity > 0.5:\n",
    "        return True  # Predict as crack\n",
    "    else:\n",
    "        return False  # Predict as non-crack\n",
    "\n",
    "# Evaluate the classifier on the test set\n",
    "correct_predictions = 0\n",
    "total_predictions = len(X_test)\n",
    "\n",
    "for i in range(total_predictions):\n",
    "    predicted_label = rule_based_classifier(X_test[i])\n",
    "    if predicted_label == y_test[i]:\n",
    "        correct_predictions += 1\n",
    "\n",
    "accuracy = (correct_predictions / total_predictions) * 100\n",
    "print(f\"Accuracy of the rule-based classifier: {accuracy:.2f}%\")\n"
   ]
  },
  {
   "cell_type": "code",
   "execution_count": 42,
   "metadata": {},
   "outputs": [
    {
     "name": "stdout",
     "output_type": "stream",
     "text": [
      "Precision: 0.00\n",
      "Recall: 0.00\n",
      "IoU: 0.00\n"
     ]
    }
   ],
   "source": [
    "# Initialize variables to keep track of true positives, false positives, and false negatives\n",
    "true_positives = 0\n",
    "false_positives = 0\n",
    "false_negatives = 0\n",
    "\n",
    "# Define a threshold for classifying regions as cracks\n",
    "iou_threshold = 0.4\n",
    "# Iterate through the test set\n",
    "for i in range(len(X_test)):\n",
    "    predicted_label = rule_based_classifier(X_test[i])  # Apply your classifier\n",
    "    true_label = y_test[i]\n",
    "    \n",
    "    # Calculate IoU for the current region\n",
    "    if predicted_label and true_label:\n",
    "        intersection = np.logical_and(predicted_label, true_label)\n",
    "        union = np.logical_or(predicted_label, true_label)\n",
    "        iou = np.sum(intersection) / np.sum(union)\n",
    "        \n",
    "        # Update TP, FP, and FN based on IoU and threshold\n",
    "        if iou > iou_threshold:\n",
    "            true_positives += 1\n",
    "        else:\n",
    "            false_positives += 1\n",
    "    elif predicted_label and not true_label:\n",
    "        false_positives += 1\n",
    "    elif not predicted_label and true_label:\n",
    "        false_negatives += 1\n",
    "\n",
    "# Calculate precision, recall, and IoU\n",
    "precision = true_positives / (true_positives + false_positives)\n",
    "recall = true_positives / (true_positives + false_negatives)\n",
    "iou = true_positives / (true_positives + false_positives + false_negatives)\n",
    "\n",
    "print(f\"Precision: {precision:.2f}\")\n",
    "print(f\"Recall: {recall:.2f}\")\n",
    "print(f\"IoU: {iou:.2f}\")\n"
   ]
  },
  {
   "cell_type": "markdown",
   "metadata": {},
   "source": [
    "#### b) For further processing use thinning in order to reduced the segmentation results to a line-like representation of the crack. You are allowed to use built-in functions."
   ]
  },
  {
   "cell_type": "code",
   "execution_count": 71,
   "metadata": {},
   "outputs": [
    {
     "data": {
      "image/png": "[encoded data removed]",
      "text/plain": [
       "<Figure size 640x480 with 1 Axes>"
      ]
     },
     "metadata": {},
     "output_type": "display_data"
    }
   ],
   "source": [
    "import cv2\n",
    "import numpy as np\n",
    "from skimage.morphology import skeletonize\n",
    "from skimage.measure import regionprops\n",
    "import matplotlib.pyplot as plt\n",
    "\n",
    "# Load the image (you should replace 'your_image.png' with the actual image file path)\n",
    "img = cv2.imread('dataset/crack/Amalienstrasse_annotation.png', cv2.IMREAD_GRAYSCALE)\n",
    "\n",
    "# Define a kernel for morphological operations\n",
    "kernel = np.ones((1, 2), np.uint8) \n",
    "dilated_image = cv2.dilate(img, kernel, iterations=1)\n",
    "eroded_image = cv2.erode(dilated_image, kernel, iterations=1)\n",
    "\n",
    "# Perform connected component analysis to label regions\n",
    "# (Assuming you have the connected component analysis code as mentioned earlier)\n",
    "labeled_image = connected_component_analysis(eroded_image)\n",
    "\n",
    "# Perform thinning using skimage's skeletonize function\n",
    "thinned_image = skeletonize(labeled_image)\n",
    "\n",
    "# Save and display the thinned crack image\n",
    "plt.imsave('thinned_crack.png', thinned_image, cmap='gray')\n",
    "plt.imshow(thinned_image, cmap='gray')\n",
    "plt.show()"
   ]
  },
  {
   "cell_type": "markdown",
   "metadata": {},
   "source": [
    "#### c) Implement a function to compute the length of the detected cracks in the test set. Report the lengths."
   ]
  },
  {
   "cell_type": "code",
   "execution_count": 72,
   "metadata": {},
   "outputs": [
    {
     "name": "stdout",
     "output_type": "stream",
     "text": [
      "Total Length of Detected Cracks: 1174.4133365154266 pixels\n"
     ]
    }
   ],
   "source": [
    "import cv2\n",
    "import numpy as np\n",
    "from skimage.morphology import skeletonize\n",
    "import matplotlib.pyplot as plt\n",
    "\n",
    "# Load the thinned crack image (you should replace 'thinned_crack.png' with your actual thinned image file path)\n",
    "thinned_image = cv2.imread('thinned_crack.png', cv2.IMREAD_GRAYSCALE)\n",
    "\n",
    "def compute_crack_length(thinned_image):\n",
    "    # Threshold the image to obtain the crack lines\n",
    "    _, binary_image = cv2.threshold(thinned_image, 1, 255, cv2.THRESH_BINARY)\n",
    "    \n",
    "    # Find contours of the crack lines\n",
    "    contours, _ = cv2.findContours(binary_image, cv2.RETR_EXTERNAL, cv2.CHAIN_APPROX_SIMPLE)\n",
    "    \n",
    "    # Initialize a variable to store the total length of detected cracks\n",
    "    total_length = 0\n",
    "    \n",
    "    # Iterate through the contours and calculate the length of each\n",
    "    for contour in contours:\n",
    "        length = cv2.arcLength(contour, closed=False)\n",
    "        total_length += length\n",
    "    \n",
    "    return total_length\n",
    "\n",
    "# Call the function to compute the length of detected cracks\n",
    "crack_length = compute_crack_length(thinned_image)\n",
    "\n",
    "# Print the total length of detected cracks\n",
    "print(f\"Total Length of Detected Cracks: {crack_length} pixels\")\n"
   ]
  },
  {
   "cell_type": "code",
   "execution_count": null,
   "metadata": {},
   "outputs": [],
   "source": []
  },
  {
   "cell_type": "code",
   "execution_count": null,
   "metadata": {},
   "outputs": [],
   "source": []
  },
  {
   "cell_type": "markdown",
   "metadata": {},
   "source": [
    "## Full code of Classifier for detection crack or no-crack"
   ]
  },
  {
   "cell_type": "code",
   "execution_count": 73,
   "metadata": {},
   "outputs": [],
   "source": [
    "import cv2\n",
    "import numpy as np\n",
    "from matplotlib import pyplot as plt\n",
    "from skimage.morphology import skeletonize\n",
    "from skimage.measure import regionprops\n",
    "\n",
    "# Function to perform preprocessing on the input image\n",
    "def preprocess_image(image_path, threshold_value=90):\n",
    "    # Read the input image\n",
    "    img = cv2.imread(image_path)\n",
    "\n",
    "    # Convert the image to grayscale\n",
    "    gray_image = cv2.cvtColor(img, cv2.COLOR_BGR2GRAY)\n",
    "\n",
    "    # Apply adaptive thresholding to obtain a binary image\n",
    "    binary_image = cv2.adaptiveThreshold(\n",
    "        gray_image, 255, cv2.ADAPTIVE_THRESH_GAUSSIAN_C, cv2.THRESH_BINARY_INV, 11, 2\n",
    "    )\n",
    "\n",
    "    return binary_image"
   ]
  },
  {
   "cell_type": "code",
   "execution_count": 74,
   "metadata": {},
   "outputs": [],
   "source": [
    "# Function to create feature vectors for crack detection\n",
    "def create_feature_vector(binary_image, labeled_image, ground_truth_image):\n",
    "    feature_vectors = []\n",
    "    labels = []\n",
    "\n",
    "    # Iterate through each labeled region\n",
    "    for region in regionprops(labeled_image):\n",
    "        # Extract region properties\n",
    "        area = region.area\n",
    "        perimeter = region.perimeter\n",
    "\n",
    "        # Check if major_axis_length is zero before calculating the aspect ratio\n",
    "        if region.major_axis_length != 0:\n",
    "            aspect_ratio = region.minor_axis_length / region.major_axis_length\n",
    "        else:\n",
    "            aspect_ratio = 0.0  # Handle division by zero case\n",
    "\n",
    "        # Calculate circularity (check for zero perimeter to avoid division by zero)\n",
    "        if perimeter != 0:\n",
    "            circularity = 4 * np.pi * (area / (perimeter**2))\n",
    "        else:\n",
    "            circularity = 0.0  # Handle division by zero case\n",
    "\n",
    "        # Extract centroid coordinates\n",
    "        centroid_x, centroid_y = region.centroid\n",
    "\n",
    "        # Calculate distance from the center of the image\n",
    "        image_center_x, image_center_y = labeled_image.shape[1] / 2, labeled_image.shape[0] / 2\n",
    "        distance_to_center = np.sqrt((centroid_x - image_center_x)**2 + (centroid_y - image_center_y)**2)\n",
    "\n",
    "        # Determine if the region is a crack based on ground truth\n",
    "        x, y = int(centroid_x), int(centroid_y)\n",
    "        is_crack = ground_truth_image[y, x] == 255\n",
    "\n",
    "        # Create a feature vector\n",
    "        feature_vector = [area, perimeter, aspect_ratio, circularity, centroid_x, centroid_y, distance_to_center]\n",
    "\n",
    "        # Append the feature vector and label to lists\n",
    "        feature_vectors.append(feature_vector)\n",
    "        labels.append(is_crack)\n",
    "\n",
    "    return feature_vectors, labels"
   ]
  },
  {
   "cell_type": "code",
   "execution_count": 75,
   "metadata": {},
   "outputs": [],
   "source": [
    "# Function to classify regions as crack or non-crack using a classifier\n",
    "def classify_regions(feature_vectors, classifier, area_threshold=1000, aspect_ratio_threshold=0.6, circularity_threshold=0.6):\n",
    "    classified_regions = []\n",
    "\n",
    "    for i, region_feature_vector in enumerate(feature_vectors):\n",
    "        area, _, aspect_ratio, circularity, _, _, _ = region_feature_vector\n",
    "\n",
    "        if (\n",
    "            area >= area_threshold and\n",
    "            aspect_ratio >= aspect_ratio_threshold and\n",
    "            circularity >= circularity_threshold\n",
    "        ):\n",
    "            classified_regions.append((i, 'Crack'))\n",
    "        else:\n",
    "            classified_regions.append((i, 'Non-Crack'))\n",
    "\n",
    "    return classified_regions"
   ]
  },
  {
   "cell_type": "code",
   "execution_count": 76,
   "metadata": {},
   "outputs": [
    {
     "name": "stdout",
     "output_type": "stream",
     "text": [
      "Region 0 is classified as Non-Crack\n"
     ]
    }
   ],
   "source": [
    "# Main function to process an input image\n",
    "def process_input_image(image_path):\n",
    "    # Preprocess the input image\n",
    "    binary_image = preprocess_image(image_path)\n",
    "\n",
    "    # Perform morphological operations and thinning\n",
    "    kernel = np.ones((10, 10), np.uint8)\n",
    "    dilated_image = cv2.dilate(binary_image, kernel, iterations=1)\n",
    "    eroded_image = cv2.erode(dilated_image, kernel, iterations=1)\n",
    "    closing_image = cv2.morphologyEx(eroded_image, cv2.MORPH_CLOSE, kernel)\n",
    "    thinned_image = skeletonize(closing_image)\n",
    "\n",
    "    # Load the labeled image (result from connected component analysis)\n",
    "    labeled_image = thinned_image.astype(np.uint8)\n",
    "\n",
    "    # Load the ground truth image (assuming white pixels represent cracks)\n",
    "    ground_truth_image = cv2.imread(\"After Streched Image.png\", cv2.IMREAD_GRAYSCALE)\n",
    "\n",
    "    # Create feature vectors and labels\n",
    "    feature_vectors, labels = create_feature_vector(labeled_image, labeled_image, ground_truth_image)\n",
    "\n",
    "    # Load or train your classifier (you can replace this with your classifier)\n",
    "    classifier = ...  # Load or create your classifier here\n",
    "\n",
    "    # Classify regions as crack or non-crack\n",
    "    classified_regions = classify_regions(feature_vectors, classifier)\n",
    "\n",
    "    return classified_regions\n",
    "\n",
    "# Input image path (change this to the path of your input image)\n",
    "input_image_path = \"After Morphological Operations.png\"\n",
    "\n",
    "# Process the input image and get the classified regions\n",
    "results = process_input_image(input_image_path)\n",
    "\n",
    "# Print the results\n",
    "for i, result in results:\n",
    "    print(f\"Region {i} is classified as {result}\")\n"
   ]
  }
 ],
 "metadata": {
  "kernelspec": {
   "display_name": "Python 3",
   "language": "python",
   "name": "python3"
  },
  "language_info": {
   "codemirror_mode": {
    "name": "ipython",
    "version": 3
   },
   "file_extension": ".py",
   "mimetype": "text/x-python",
   "name": "python",
   "nbconvert_exporter": "python",
   "pygments_lexer": "ipython3",
   "version": "3.11.3"
  },
  "orig_nbformat": 4
 },
 "nbformat": 4,
 "nbformat_minor": 2
}
